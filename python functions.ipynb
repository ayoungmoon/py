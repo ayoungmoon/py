{
 "cells": [
  {
   "cell_type": "code",
   "execution_count": 26,
   "metadata": {
    "collapsed": true
   },
   "outputs": [],
   "source": [
    "#파이썬 함수 다루기 "
   ]
  },
  {
   "cell_type": "code",
   "execution_count": 27,
   "metadata": {},
   "outputs": [
    {
     "name": "stdout",
     "output_type": "stream",
     "text": [
      "30\n"
     ]
    }
   ],
   "source": [
    "print(10+20)"
   ]
  },
  {
   "cell_type": "code",
   "execution_count": 28,
   "metadata": {},
   "outputs": [
    {
     "name": "stdout",
     "output_type": "stream",
     "text": [
      "600\n"
     ]
    }
   ],
   "source": [
    "print(200+400)"
   ]
  },
  {
   "cell_type": "code",
   "execution_count": 29,
   "metadata": {
    "collapsed": true
   },
   "outputs": [],
   "source": [
    "#함수만들기 (리턴이 없는 경우: 호출해서 결과만 실행)"
   ]
  },
  {
   "cell_type": "code",
   "execution_count": 30,
   "metadata": {
    "collapsed": true
   },
   "outputs": [],
   "source": [
    "def add(): #함수를 만드는 것을 => 정의 (definition)이라고 한다. \n",
    "    print(\"나를 호출하셨군요...\") #함수를 사용하는 것을 => 호출(call)이라고 한다. "
   ]
  },
  {
   "cell_type": "code",
   "execution_count": 31,
   "metadata": {},
   "outputs": [
    {
     "name": "stdout",
     "output_type": "stream",
     "text": [
      "나를 호출하셨군요...\n"
     ]
    }
   ],
   "source": [
    "add()"
   ]
  },
  {
   "cell_type": "code",
   "execution_count": 32,
   "metadata": {
    "collapsed": true
   },
   "outputs": [],
   "source": [
    "def add2(x,y):\n",
    "    print(\"두 수의 합은:\",x+y)"
   ]
  },
  {
   "cell_type": "code",
   "execution_count": 33,
   "metadata": {},
   "outputs": [
    {
     "name": "stdout",
     "output_type": "stream",
     "text": [
      "두 수의 합은: 10000008\n"
     ]
    }
   ],
   "source": [
    "add2(10000000,8)"
   ]
  },
  {
   "cell_type": "code",
   "execution_count": 34,
   "metadata": {
    "collapsed": true
   },
   "outputs": [],
   "source": [
    "def minus(x,y):\n",
    "    print(\"두 수의 차는:\",x-y)"
   ]
  },
  {
   "cell_type": "code",
   "execution_count": 35,
   "metadata": {},
   "outputs": [
    {
     "name": "stdout",
     "output_type": "stream",
     "text": [
      "두 수의 차는: 255\n"
     ]
    }
   ],
   "source": [
    "minus(299,44)"
   ]
  },
  {
   "cell_type": "code",
   "execution_count": 36,
   "metadata": {
    "collapsed": true
   },
   "outputs": [],
   "source": [
    "def mul(x,y):\n",
    "    print(\"두 수의 곱은:\",x*y)"
   ]
  },
  {
   "cell_type": "code",
   "execution_count": 37,
   "metadata": {},
   "outputs": [
    {
     "name": "stdout",
     "output_type": "stream",
     "text": [
      "두 수의 곱은: 56\n"
     ]
    }
   ],
   "source": [
    "mul(7,8)"
   ]
  },
  {
   "cell_type": "code",
   "execution_count": 38,
   "metadata": {
    "collapsed": true
   },
   "outputs": [],
   "source": [
    "def div(x,y):\n",
    "    print(\"두 수의 몫은:\",x/y)"
   ]
  },
  {
   "cell_type": "code",
   "execution_count": 39,
   "metadata": {},
   "outputs": [
    {
     "name": "stdout",
     "output_type": "stream",
     "text": [
      "두 수의 몫은: 11.11111111111111\n"
     ]
    }
   ],
   "source": [
    "div(800,72)"
   ]
  },
  {
   "cell_type": "code",
   "execution_count": 47,
   "metadata": {},
   "outputs": [
    {
     "name": "stdout",
     "output_type": "stream",
     "text": [
      "숫자1입력:300\n",
      "숫자2입력:100\n"
     ]
    }
   ],
   "source": [
    "num1=input(\"숫자1입력:\")\n",
    "num2=input(\"숫자2입력:\")"
   ]
  },
  {
   "cell_type": "code",
   "execution_count": 48,
   "metadata": {
    "collapsed": true
   },
   "outputs": [],
   "source": [
    "n1=int(num1)\n",
    "n2=int(num2)"
   ]
  },
  {
   "cell_type": "code",
   "execution_count": 49,
   "metadata": {},
   "outputs": [
    {
     "name": "stdout",
     "output_type": "stream",
     "text": [
      "400\n"
     ]
    }
   ],
   "source": [
    "print(n1+n2)"
   ]
  },
  {
   "cell_type": "code",
   "execution_count": 50,
   "metadata": {},
   "outputs": [
    {
     "name": "stdout",
     "output_type": "stream",
     "text": [
      "연산자를 입력:+,-,x,/ 중 하나-\n"
     ]
    }
   ],
   "source": [
    "oper=input(\"연산자를 입력:+,-,x,/ 중 하나\")"
   ]
  },
  {
   "cell_type": "code",
   "execution_count": 51,
   "metadata": {},
   "outputs": [
    {
     "name": "stdout",
     "output_type": "stream",
     "text": [
      "두 수의 차는: 200\n"
     ]
    }
   ],
   "source": [
    "if oper == \"+\":\n",
    "    add2(n1,n2)\n",
    "if oper == \"-\":\n",
    "    minus(n1,n2)\n",
    "if oper == \"x\":\n",
    "    mul(n1,n2)\n",
    "if oper == \"/\":\n",
    "    div(n1,n2)"
   ]
  },
  {
   "cell_type": "code",
   "execution_count": null,
   "metadata": {
    "collapsed": true
   },
   "outputs": [],
   "source": [
    "#함수만들기(return값이 있는 경우 )\n",
    "#음식점에서 계산을 했더니 5만원이 넘는다. total(인원수,음식값) \n",
    "#5만원이 넘으면 5000원 할인! "
   ]
  },
  {
   "cell_type": "code",
   "execution_count": 70,
   "metadata": {},
   "outputs": [],
   "source": [
    "def foodTotal(person):\n",
    "    price=5000\n",
    "    return person*price "
   ]
  },
  {
   "cell_type": "code",
   "execution_count": 71,
   "metadata": {},
   "outputs": [],
   "source": [
    "total=foodTotal(10)"
   ]
  },
  {
   "cell_type": "code",
   "execution_count": 81,
   "metadata": {},
   "outputs": [
    {
     "name": "stdout",
     "output_type": "stream",
     "text": [
      "총 가격은: 45000\n"
     ]
    }
   ],
   "source": [
    "if (total>=50000):\n",
    "    print(\"총 가격은:\",total-5000)\n",
    "else:\n",
    "    print(\"총 가격은:\",total)"
   ]
  },
  {
   "cell_type": "code",
   "execution_count": null,
   "metadata": {
    "collapsed": true
   },
   "outputs": [],
   "source": [
    "#반복문 for x in b "
   ]
  },
  {
   "cell_type": "code",
   "execution_count": 73,
   "metadata": {
    "collapsed": true
   },
   "outputs": [],
   "source": [
    "hobby=[\"달리기\",\"승마\",\"먹기\",\"잠자기\"]"
   ]
  },
  {
   "cell_type": "code",
   "execution_count": 74,
   "metadata": {},
   "outputs": [
    {
     "name": "stdout",
     "output_type": "stream",
     "text": [
      "달리기\n"
     ]
    }
   ],
   "source": [
    "print(hobby[0])"
   ]
  },
  {
   "cell_type": "code",
   "execution_count": 78,
   "metadata": {},
   "outputs": [
    {
     "name": "stdout",
     "output_type": "stream",
     "text": [
      "달리기\n",
      "승마\n",
      "먹기\n",
      "잠자기\n",
      "날기\n"
     ]
    }
   ],
   "source": [
    "for x in hobby:\n",
    "    print(x)"
   ]
  },
  {
   "cell_type": "code",
   "execution_count": 76,
   "metadata": {
    "collapsed": true
   },
   "outputs": [],
   "source": [
    "hobby.append(\"날기\")"
   ]
  },
  {
   "cell_type": "code",
   "execution_count": 77,
   "metadata": {},
   "outputs": [
    {
     "data": {
      "text/plain": [
       "['달리기', '승마', '먹기', '잠자기', '날기']"
      ]
     },
     "execution_count": 77,
     "metadata": {},
     "output_type": "execute_result"
    }
   ],
   "source": [
    "hobby"
   ]
  },
  {
   "cell_type": "code",
   "execution_count": 79,
   "metadata": {},
   "outputs": [
    {
     "data": {
      "text/plain": [
       "5"
      ]
     },
     "execution_count": 79,
     "metadata": {},
     "output_type": "execute_result"
    }
   ],
   "source": [
    "len(hobby)"
   ]
  },
  {
   "cell_type": "code",
   "execution_count": 80,
   "metadata": {},
   "outputs": [
    {
     "name": "stdout",
     "output_type": "stream",
     "text": [
      "['달리기', '승마']\n"
     ]
    }
   ],
   "source": [
    "print(hobby[0:2])"
   ]
  },
  {
   "cell_type": "code",
   "execution_count": null,
   "metadata": {
    "collapsed": true
   },
   "outputs": [],
   "source": [
    "#1.리스트에 hera@naver.com \n",
    "#2.입력을 2개를 받는다:gardenpro@daum.net, korea@korea.co.kr \n",
    "#3.com으로 끝나면 닷컴회사이군요, .net으로 끝나면 닷넷회사이군요. kr으로 끝나면 한국에 있는 회사군요. 아니라면, 저도 잘 모르겠어요. "
   ]
  },
  {
   "cell_type": "code",
   "execution_count": 121,
   "metadata": {},
   "outputs": [],
   "source": [
    "a=[\"hera@naver.com\"]"
   ]
  },
  {
   "cell_type": "code",
   "execution_count": 123,
   "metadata": {},
   "outputs": [
    {
     "name": "stdout",
     "output_type": "stream",
     "text": [
      "주소는:gardenpro@daum.net\n"
     ]
    }
   ],
   "source": [
    "a1=input(\"주소는:\")"
   ]
  },
  {
   "cell_type": "code",
   "execution_count": 124,
   "metadata": {
    "collapsed": true
   },
   "outputs": [],
   "source": [
    "a.append(a1)"
   ]
  },
  {
   "cell_type": "code",
   "execution_count": 125,
   "metadata": {},
   "outputs": [
    {
     "name": "stdout",
     "output_type": "stream",
     "text": [
      "주소는:korea@korea.co.kr \n"
     ]
    }
   ],
   "source": [
    "a2=input(\"주소는:\")"
   ]
  },
  {
   "cell_type": "code",
   "execution_count": 126,
   "metadata": {},
   "outputs": [],
   "source": [
    "a.append(a2)"
   ]
  },
  {
   "cell_type": "code",
   "execution_count": 127,
   "metadata": {},
   "outputs": [
    {
     "name": "stdout",
     "output_type": "stream",
     "text": [
      "['hera@naver.com', 'gardenpro@daum.net', 'korea@korea.co.kr ']\n"
     ]
    }
   ],
   "source": [
    "print(a)"
   ]
  },
  {
   "cell_type": "code",
   "execution_count": null,
   "metadata": {
    "collapsed": true
   },
   "outputs": [],
   "source": [
    "for x in a:\n",
    "    if a.endswith(\".com\"):\n",
    "        print(\"닷컴회사이군요.\")\n",
    "    elif a.endswith(\".net\"):\n",
    "        print(\"닷넷회사이군요.\")\n",
    "    elif a.endswith(\".kr\"): \n",
    "        print(\"한국에 있는 회사군요.\")\n",
    "    else:\n",
    "        print(\"저도 잘 모르겠어요.\")"
   ]
  }
 ],
 "metadata": {
  "kernelspec": {
   "display_name": "Python 3",
   "language": "python",
   "name": "python3"
  },
  "language_info": {
   "codemirror_mode": {
    "name": "ipython",
    "version": 3
   },
   "file_extension": ".py",
   "mimetype": "text/x-python",
   "name": "python",
   "nbconvert_exporter": "python",
   "pygments_lexer": "ipython3",
   "version": "3.6.2"
  }
 },
 "nbformat": 4,
 "nbformat_minor": 2
}
